{
  "nbformat": 4,
  "nbformat_minor": 0,
  "metadata": {
    "colab": {
      "provenance": [],
      "collapsed_sections": [
        "aljBqW5wP_T_",
        "SIZUQ3lzPmJj",
        "CmedEn4CLiAx"
      ]
    },
    "kernelspec": {
      "name": "python3",
      "display_name": "Python 3"
    },
    "language_info": {
      "name": "python"
    }
  },
  "cells": [
    {
      "cell_type": "markdown",
      "source": [
        "#### importing"
      ],
      "metadata": {
        "id": "E60ibzW4PYk-"
      }
    },
    {
      "cell_type": "code",
      "execution_count": 140,
      "metadata": {
        "id": "0qoVnlFz8NbJ"
      },
      "outputs": [],
      "source": [
        "%matplotlib inline\n",
        "\n",
        "import numpy as np\n",
        "import pandas as pd\n",
        "import re\n",
        "from datetime import datetime\n",
        "\n",
        "import matplotlib.pyplot as plt\n",
        "from matplotlib import cm\n",
        "import seaborn as sns\n",
        "plt.rcParams['figure.dpi']= 100\n",
        "\n",
        "import spacy\n",
        "from spacy.lang.en.stop_words import STOP_WORDS\n",
        "\n",
        "from sklearn import metrics\n",
        "from sklearn.feature_extraction.text import TfidfVectorizer\n",
        "from sklearn.linear_model import ElasticNet, LinearRegression\n",
        "from sklearn.svm import LinearSVC\n",
        "from sklearn.preprocessing import StandardScaler\n",
        "from sklearn.pipeline import Pipeline, make_pipeline\n",
        "from sklearn.model_selection import GridSearchCV, train_test_split, cross_val_score\n",
        "from sklearn.ensemble import ExtraTreesClassifier, RandomForestRegressor\n",
        "from sklearn.feature_selection import SelectKBest, f_classif, f_regression\n",
        "from sklearn.feature_selection import chi2\n",
        "\n",
        "import nltk\n",
        "from nltk.tokenize import TweetTokenizer\n",
        "import string\n",
        "\n",
        "from sklearn.model_selection import train_test_split\n",
        "\n",
        "from sklearn.metrics import cohen_kappa_score\n",
        "from sklearn.preprocessing import StandardScaler\n",
        "from sklearn.svm import SVC\n",
        "\n",
        "\n",
        "plt.style.use('seaborn-colorblind')\n",
        "\n",
        "# Setup Pandas\n",
        "pd.set_option('display.width', 500)\n",
        "pd.set_option('display.max_columns', 100)\n",
        "pd.set_option('display.notebook_repr_html', True)\n",
        "pd.set_option('display.max_colwidth', 100)"
      ]
    },
    {
      "cell_type": "code",
      "source": [
        "!pip install language-tool-python\n",
        "!pip install g2p-en\n",
        "!apt update\n",
        "!apt install enchant --fix-missing\n",
        "!apt install -qq enchant\n",
        "!pip install pyenchant\n",
        "import language_tool_python\n",
        "from g2p_en import G2p\n",
        "import enchant\n",
        "tknzr = TweetTokenizer()\n",
        "d = enchant.Dict(\"en_US\")\n",
        "g2p = G2p()\n"
      ],
      "metadata": {
        "id": "MPTwvBMr9Rjh"
      },
      "execution_count": null,
      "outputs": []
    },
    {
      "cell_type": "code",
      "source": [
        "training_set  = pd.read_csv('training_set.csv', encoding = \"ISO-8859-1\")\\\n",
        "            .rename(columns={ 'essay_set': 'topic','domain1_score': 'target_score', 'domain2_score': 'topic2_target'})\n",
        "training_set.sample()"
      ],
      "metadata": {
        "colab": {
          "base_uri": "https://localhost:8080/",
          "height": 142
        },
        "id": "umFxFTve8T1U",
        "outputId": "8a09a829-97fc-4da5-e730-eeaa540359f0"
      },
      "execution_count": 175,
      "outputs": [
        {
          "output_type": "execute_result",
          "data": {
            "text/plain": [
              "     essay_id  topic                                                                                                essay  rater1_domain1  rater2_domain1  target_score\n",
              "161       162      4  I think that the author concludes the story with this paragraph by teaching Saeng how to be conf...               1               1             1"
            ],
            "text/html": [
              "\n",
              "  <div id=\"df-21bad0a6-cd02-431b-9eac-bdc003ebdaea\">\n",
              "    <div class=\"colab-df-container\">\n",
              "      <div>\n",
              "<style scoped>\n",
              "    .dataframe tbody tr th:only-of-type {\n",
              "        vertical-align: middle;\n",
              "    }\n",
              "\n",
              "    .dataframe tbody tr th {\n",
              "        vertical-align: top;\n",
              "    }\n",
              "\n",
              "    .dataframe thead th {\n",
              "        text-align: right;\n",
              "    }\n",
              "</style>\n",
              "<table border=\"1\" class=\"dataframe\">\n",
              "  <thead>\n",
              "    <tr style=\"text-align: right;\">\n",
              "      <th></th>\n",
              "      <th>essay_id</th>\n",
              "      <th>topic</th>\n",
              "      <th>essay</th>\n",
              "      <th>rater1_domain1</th>\n",
              "      <th>rater2_domain1</th>\n",
              "      <th>target_score</th>\n",
              "    </tr>\n",
              "  </thead>\n",
              "  <tbody>\n",
              "    <tr>\n",
              "      <th>161</th>\n",
              "      <td>162</td>\n",
              "      <td>4</td>\n",
              "      <td>I think that the author concludes the story with this paragraph by teaching Saeng how to be conf...</td>\n",
              "      <td>1</td>\n",
              "      <td>1</td>\n",
              "      <td>1</td>\n",
              "    </tr>\n",
              "  </tbody>\n",
              "</table>\n",
              "</div>\n",
              "      <button class=\"colab-df-convert\" onclick=\"convertToInteractive('df-21bad0a6-cd02-431b-9eac-bdc003ebdaea')\"\n",
              "              title=\"Convert this dataframe to an interactive table.\"\n",
              "              style=\"display:none;\">\n",
              "        \n",
              "  <svg xmlns=\"http://www.w3.org/2000/svg\" height=\"24px\"viewBox=\"0 0 24 24\"\n",
              "       width=\"24px\">\n",
              "    <path d=\"M0 0h24v24H0V0z\" fill=\"none\"/>\n",
              "    <path d=\"M18.56 5.44l.94 2.06.94-2.06 2.06-.94-2.06-.94-.94-2.06-.94 2.06-2.06.94zm-11 1L8.5 8.5l.94-2.06 2.06-.94-2.06-.94L8.5 2.5l-.94 2.06-2.06.94zm10 10l.94 2.06.94-2.06 2.06-.94-2.06-.94-.94-2.06-.94 2.06-2.06.94z\"/><path d=\"M17.41 7.96l-1.37-1.37c-.4-.4-.92-.59-1.43-.59-.52 0-1.04.2-1.43.59L10.3 9.45l-7.72 7.72c-.78.78-.78 2.05 0 2.83L4 21.41c.39.39.9.59 1.41.59.51 0 1.02-.2 1.41-.59l7.78-7.78 2.81-2.81c.8-.78.8-2.07 0-2.86zM5.41 20L4 18.59l7.72-7.72 1.47 1.35L5.41 20z\"/>\n",
              "  </svg>\n",
              "      </button>\n",
              "      \n",
              "  <style>\n",
              "    .colab-df-container {\n",
              "      display:flex;\n",
              "      flex-wrap:wrap;\n",
              "      gap: 12px;\n",
              "    }\n",
              "\n",
              "    .colab-df-convert {\n",
              "      background-color: #E8F0FE;\n",
              "      border: none;\n",
              "      border-radius: 50%;\n",
              "      cursor: pointer;\n",
              "      display: none;\n",
              "      fill: #1967D2;\n",
              "      height: 32px;\n",
              "      padding: 0 0 0 0;\n",
              "      width: 32px;\n",
              "    }\n",
              "\n",
              "    .colab-df-convert:hover {\n",
              "      background-color: #E2EBFA;\n",
              "      box-shadow: 0px 1px 2px rgba(60, 64, 67, 0.3), 0px 1px 3px 1px rgba(60, 64, 67, 0.15);\n",
              "      fill: #174EA6;\n",
              "    }\n",
              "\n",
              "    [theme=dark] .colab-df-convert {\n",
              "      background-color: #3B4455;\n",
              "      fill: #D2E3FC;\n",
              "    }\n",
              "\n",
              "    [theme=dark] .colab-df-convert:hover {\n",
              "      background-color: #434B5C;\n",
              "      box-shadow: 0px 1px 3px 1px rgba(0, 0, 0, 0.15);\n",
              "      filter: drop-shadow(0px 1px 2px rgba(0, 0, 0, 0.3));\n",
              "      fill: #FFFFFF;\n",
              "    }\n",
              "  </style>\n",
              "\n",
              "      <script>\n",
              "        const buttonEl =\n",
              "          document.querySelector('#df-21bad0a6-cd02-431b-9eac-bdc003ebdaea button.colab-df-convert');\n",
              "        buttonEl.style.display =\n",
              "          google.colab.kernel.accessAllowed ? 'block' : 'none';\n",
              "\n",
              "        async function convertToInteractive(key) {\n",
              "          const element = document.querySelector('#df-21bad0a6-cd02-431b-9eac-bdc003ebdaea');\n",
              "          const dataTable =\n",
              "            await google.colab.kernel.invokeFunction('convertToInteractive',\n",
              "                                                     [key], {});\n",
              "          if (!dataTable) return;\n",
              "\n",
              "          const docLinkHtml = 'Like what you see? Visit the ' +\n",
              "            '<a target=\"_blank\" href=https://colab.research.google.com/notebooks/data_table.ipynb>data table notebook</a>'\n",
              "            + ' to learn more about interactive tables.';\n",
              "          element.innerHTML = '';\n",
              "          dataTable['output_type'] = 'display_data';\n",
              "          await google.colab.output.renderOutput(dataTable, element);\n",
              "          const docLink = document.createElement('div');\n",
              "          docLink.innerHTML = docLinkHtml;\n",
              "          element.appendChild(docLink);\n",
              "        }\n",
              "      </script>\n",
              "    </div>\n",
              "  </div>\n",
              "  "
            ]
          },
          "metadata": {},
          "execution_count": 175
        }
      ]
    },
    {
      "cell_type": "markdown",
      "source": [
        "#### feature extraction funcs"
      ],
      "metadata": {
        "id": "aljBqW5wP_T_"
      }
    },
    {
      "cell_type": "code",
      "source": [
        "def load_file(filename):\n",
        "    dataset = pd.read_table(filename, header=0, sep=\",\", encoding=\"unicode_escape\")\n",
        "    \n",
        "    essay_set1 = dataset.loc[dataset['essay_set'] == 1]\n",
        "    essay_set3 = dataset.loc[dataset['essay_set'] == 3]\n",
        "    essay_set4 = dataset.loc[dataset['essay_set'] == 4]\n",
        "    essay_set5 = dataset.loc[dataset['essay_set'] == 5]\n",
        "    essay_set6 = dataset.loc[dataset['essay_set'] == 6]\n",
        "    essay_set7 = dataset.loc[dataset['essay_set'] == 7]\n",
        "    return ([ essay_set1['essay'], essay_set3['essay'], essay_set4['essay'], essay_set5['essay'], essay_set6['essay'], essay_set7['essay'] ])\n",
        "\n",
        "def word_tokenization(es):\n",
        "\n",
        "    # for essay in essay_set:\n",
        "    proper_pronouns = ['@ORGANIZATION', '@PEOPLE', '@LOCATION', '@DATE', '@CAPS', '@NUM', '@MONTH', '@YEAR', '@PERCENT', '@TIME', '@MONEY', '@QUANTITY', '@LANGUAGE']\n",
        "    e_tokenize = tknzr.tokenize(es)\n",
        "    bag_of_words = []\n",
        "    for x in e_tokenize:\n",
        "        if (x[:len(x)-1] in proper_pronouns) or (x in string.punctuation):\n",
        "            pass\n",
        "        else:\n",
        "            bag_of_words.append(x.lower())\n",
        "\n",
        "    # print(bag_of_words)\n",
        "\n",
        "    # word-based tokenization\n",
        "    word_tokens = {}\n",
        "    token = 1\n",
        "    for x in bag_of_words:\n",
        "        if x in word_tokens.keys():\n",
        "            pass\n",
        "        else:\n",
        "            word_tokens[x] = token\n",
        "            token += 1\n",
        "\n",
        "    return word_tokens\n",
        "    \n",
        "def vocabulary_check(word_tokens):\n",
        "\n",
        "    # check for vocabulary errors\n",
        "    total_words = len(word_tokens)\n",
        "    correctness = 0\n",
        "    correct = 0\n",
        "    for x in word_tokens.keys():\n",
        "        if (d.check(x) == True):\n",
        "            correct = correct + 1\n",
        "\n",
        "    misspelt = total_words - correct \n",
        "    return misspelt\n",
        "\n",
        "def extract_feature_set4():\n",
        "    words_count = []\n",
        "    word_count = 0\n",
        "    sentences_count = []\n",
        "    unique_words_count = []\n",
        "\n",
        "    essaysets = load_file(\"training_set.csv\")\n",
        "    for essayset in essaysets:\n",
        "        for essay in essayset:\n",
        "            length = len(essay.split())\n",
        "            words_count.append(length)\n",
        "\n",
        "            total_sentences = 0\n",
        "            sentences = essay.split('.')\n",
        "            for i in sentences:\n",
        "                sentences[total_sentences] = sentences[total_sentences].split()\n",
        "                total_sentences = total_sentences + 1\n",
        "            sentences_count.append(total_sentences)\n",
        "\n",
        "            \n",
        "            unique_words = []\n",
        "            for word in essay.split():\n",
        "                if word not in unique_words:\n",
        "                    unique_words.append(word)\n",
        "\n",
        "            unique_words_count.append(len(unique_words))\n",
        "\n",
        "    return(words_count, sentences_count, unique_words_count)\n",
        "\n",
        "def extract_feature_set2(word_tokens):\n",
        "    \n",
        "    # EMOTIVE EFFECTIVENESS FEATURE SET\n",
        "    lexicon = {}\n",
        "    with open('subjclueslen1-HLTEMNLP05.tff') as f:\n",
        "        \n",
        "        for line in f:\n",
        "            content = f.readline()\n",
        "            row = content.split()\n",
        "            type = row[0][5:]\n",
        "            words = row[2][6:]\n",
        "            pos = row[3][5:]\n",
        "            polarity = row[5][14:]\n",
        "            \n",
        "            lexicon[words] = (type, pos, polarity)\n",
        "\n",
        "    # print(lexicon)\n",
        "\n",
        "    strong_positive = 0\n",
        "    strong_negative = 0\n",
        "    strong_neutral = 0\n",
        "    strong_both = 0\n",
        "\n",
        "    weak_positive = 0\n",
        "    weak_negative = 0\n",
        "    weak_neutral = 0\n",
        "    weak_both = 0\n",
        "\n",
        "    for w in word_tokens.keys():\n",
        "        if w in lexicon.keys():\n",
        "            if lexicon[w][0] == \"strongsubj\":\n",
        "                if lexicon[w][2] == \"positive\":\n",
        "                    strong_positive += 1\n",
        "\n",
        "                elif lexicon[w][2] == \"negative\":\n",
        "                    strong_negative += 1\n",
        "\n",
        "                elif lexicon[w][2] == \"neutral\":\n",
        "                    strong_neutral += 1\n",
        "\n",
        "                elif lexicon[w][2] == \"both\":\n",
        "                    strong_both += 1 \n",
        "\n",
        "            elif lexicon[w][0] == \"weaksubj\":\n",
        "                if lexicon[w][2] == \"positive\":\n",
        "                    weak_positive += 1\n",
        "\n",
        "                elif lexicon[w][2] == \"negative\":\n",
        "                    weak_negative += 1\n",
        "\n",
        "                elif lexicon[w][2] == \"neutral\":\n",
        "                    weak_neutral += 1\n",
        "\n",
        "                elif lexicon[w][2] == \"both\":\n",
        "                    weak_both += 1 \n",
        "    \n",
        "    return strong_positive/len(word_tokens), strong_negative/len(word_tokens), strong_neutral/len(word_tokens), strong_both/len(word_tokens), weak_positive/len(word_tokens), weak_negative/len(word_tokens), weak_neutral/len(word_tokens), weak_both/len(word_tokens)"
      ],
      "metadata": {
        "id": "c0krcsuAQFqz"
      },
      "execution_count": 176,
      "outputs": []
    },
    {
      "cell_type": "markdown",
      "source": [
        "#### feature extraction"
      ],
      "metadata": {
        "id": "bICQRL5ePdzb"
      }
    },
    {
      "cell_type": "code",
      "source": [
        "# 1\n",
        "# MISTAKES and MISSPELT WORDS\n",
        "tool = language_tool_python.LanguageTool('en-US')\n",
        "misspeltarr = []\n",
        "training_set['matches'] = training_set['essay'].apply(lambda txt: tool.check(txt))\n",
        "training_set['corrections'] = training_set.apply(lambda l: len(l['matches']), axis=1)\n",
        "training_set['corrected'] = training_set['essay'].apply(lambda txt: tool.correct(txt))\n",
        "\n",
        "essaysets = load_file(\"training_set.csv\" )\n",
        "for essayset in essaysets:\n",
        "  for essay in essayset:\n",
        "\n",
        "    word_tokens = word_tokenization(essay)\n",
        "    misspelt =  vocabulary_check(word_tokens)\n",
        "    misspeltarr.append(misspelt)\n",
        "\n",
        "\n",
        "training_set[\"misspelt\"] = misspeltarr\n"
      ],
      "metadata": {
        "id": "ce5eaUkD8kvz"
      },
      "execution_count": 177,
      "outputs": []
    },
    {
      "cell_type": "code",
      "source": [
        "# 2\n",
        "# LANGUAGE FLUENCY AND DEXTERITY\n",
        "### word count, unique word count, sentence count\n",
        "\n",
        "word_count, sentence_count, unique_word_count  = extract_feature_set4()\n",
        "training_set[\"word_count\"] = word_count\n",
        "training_set[\"sentence_count\"] = sentence_count\n",
        "training_set[\"unique_word_count\"] = unique_word_count"
      ],
      "metadata": {
        "id": "VX9y27El5Mr9"
      },
      "execution_count": 178,
      "outputs": []
    },
    {
      "cell_type": "code",
      "source": [
        "# 3\n",
        "# PARTS OF SPEECH\n",
        "# nouns, adjectives, verbs and pronouns\n",
        "\n",
        "pos = []\n",
        "nlp = spacy.load('en_core_web_sm')\n",
        "np.warnings.filterwarnings('ignore')\n",
        "for essay in nlp.pipe(training_set['corrected'], batch_size=100):\n",
        "    if essay.is_parsed:\n",
        "        pos.append([e.pos_ for e in essay])\n",
        "    else:\n",
        "        pos.append(None)\n",
        "\n",
        "\n",
        "training_set['pos'] = pos\n",
        "training_set['noun'] = training_set.apply(lambda x: x['pos'].count('NOUN'), axis=1)\n",
        "training_set['adj'] = training_set.apply(lambda x: x['pos'].count('ADJ'), axis=1)\n",
        "training_set['pron'] = training_set.apply(lambda x: x['pos'].count('PRON'), axis=1)\n",
        "training_set['verb'] = training_set.apply(lambda x: x['pos'].count('VERB'), axis=1)\n"
      ],
      "metadata": {
        "id": "xSxBZj1tAmyr"
      },
      "execution_count": 179,
      "outputs": []
    },
    {
      "cell_type": "code",
      "source": [
        "# 3\n",
        "# SUBJECTIVE - EMOTIVE EFFECTIVENESS FEATURE SET\n",
        "sp = []\n",
        "sneg = []\n",
        "sneut = []\n",
        "sb = []\n",
        "wp = []\n",
        "wneg = []\n",
        "wneu = []\n",
        "wb = []\n",
        "\n",
        "essaysets = load_file(\"training_set.csv\" )\n",
        "for essayset in essaysets:\n",
        "  for essay in essayset:\n",
        "\n",
        "    word_tokens = word_tokenization(essay)\n",
        "    strong_positive, strong_negative, strong_neutral, strong_both, weak_positive, weak_negative, weak_neutral, weak_both = extract_feature_set2(word_tokens)\n",
        "\n",
        "    sp.append(strong_positive)\n",
        "    sneg.append(strong_negative)\n",
        "    sneut.append(strong_neutral)\n",
        "    sb.append(strong_both)\n",
        "    wp.append(weak_positive)\n",
        "    wneg.append(weak_negative)\n",
        "    wneu.append(weak_neutral)\n",
        "    wb.append(weak_both)\n",
        "training_set[\"strong_positive\"] = sp\n",
        "training_set[\"strong_negative\"] = sneg\n",
        "training_set[\"strong_neutral\"] = sneut\n",
        "training_set[\"strong_both\"] = sb\n",
        "training_set[\"weak_positive\"] = wp\n",
        "training_set[\"weak_negative\"] = wneg\n",
        "training_set[\"weak_neutral\"] = wneu\n",
        "training_set[\"weak_both\"] = wb"
      ],
      "metadata": {
        "id": "L4azJJkePNZS"
      },
      "execution_count": 180,
      "outputs": []
    },
    {
      "cell_type": "code",
      "source": [
        "\n",
        "features = ['corrections', 'misspelt', 'word_count', 'sentence_count', 'unique_word_count', 'noun', 'adj','pron','verb', 'strong_positive', 'strong_negative', 'strong_neutral', 'strong_both', 'weak_positive', 'weak_negative', 'weak_neutral', 'weak_both']"
      ],
      "metadata": {
        "id": "-4LsIZF2BiVS"
      },
      "execution_count": 181,
      "outputs": []
    },
    {
      "cell_type": "code",
      "source": [
        "training_set.sample()"
      ],
      "metadata": {
        "colab": {
          "base_uri": "https://localhost:8080/",
          "height": 405
        },
        "id": "IwiAT8rBUUCa",
        "outputId": "11897b07-1de2-428b-9279-3062323c7386"
      },
      "execution_count": 182,
      "outputs": [
        {
          "output_type": "execute_result",
          "data": {
            "text/plain": [
              "     essay_id  topic                                                                                                essay  rater1_domain1  rater2_domain1  target_score                                                                                              matches  corrections                                                                                            corrected  misspelt  word_count  sentence_count  unique_word_count  \\\n",
              "319       320      6  In the excerpt, the Mooring Mast, by Marcia Amidon LÃÂ¼sted, the construction of the Empire Sta...               2               2             2  [Offset 44, length 6, Rule ID: MORFOLOGIK_RULE_EN_US\\nMessage: Possible spelling mistake found.\\...            4  In the excerpt, the Mooring Mast, by Marcia Amid on Lasted, the construction of the Empire State...        12         130               8                 87   \n",
              "\n",
              "                                                                                                     pos  noun  adj  pron  verb  strong_positive  strong_negative  strong_neutral  strong_both  weak_positive  weak_negative  weak_neutral  weak_both  \n",
              "319  [ADP, DET, NOUN, PUNCT, DET, PROPN, PROPN, PUNCT, ADP, PROPN, PROPN, ADP, PROPN, PUNCT, DET, NOU...    25    9     5    14              0.0              0.0             0.0          0.0       0.011765       0.058824      0.011765        0.0  "
            ],
            "text/html": [
              "\n",
              "  <div id=\"df-5fe3eb25-ca6c-45fb-8f98-b7c03881b0aa\">\n",
              "    <div class=\"colab-df-container\">\n",
              "      <div>\n",
              "<style scoped>\n",
              "    .dataframe tbody tr th:only-of-type {\n",
              "        vertical-align: middle;\n",
              "    }\n",
              "\n",
              "    .dataframe tbody tr th {\n",
              "        vertical-align: top;\n",
              "    }\n",
              "\n",
              "    .dataframe thead th {\n",
              "        text-align: right;\n",
              "    }\n",
              "</style>\n",
              "<table border=\"1\" class=\"dataframe\">\n",
              "  <thead>\n",
              "    <tr style=\"text-align: right;\">\n",
              "      <th></th>\n",
              "      <th>essay_id</th>\n",
              "      <th>topic</th>\n",
              "      <th>essay</th>\n",
              "      <th>rater1_domain1</th>\n",
              "      <th>rater2_domain1</th>\n",
              "      <th>target_score</th>\n",
              "      <th>matches</th>\n",
              "      <th>corrections</th>\n",
              "      <th>corrected</th>\n",
              "      <th>misspelt</th>\n",
              "      <th>word_count</th>\n",
              "      <th>sentence_count</th>\n",
              "      <th>unique_word_count</th>\n",
              "      <th>pos</th>\n",
              "      <th>noun</th>\n",
              "      <th>adj</th>\n",
              "      <th>pron</th>\n",
              "      <th>verb</th>\n",
              "      <th>strong_positive</th>\n",
              "      <th>strong_negative</th>\n",
              "      <th>strong_neutral</th>\n",
              "      <th>strong_both</th>\n",
              "      <th>weak_positive</th>\n",
              "      <th>weak_negative</th>\n",
              "      <th>weak_neutral</th>\n",
              "      <th>weak_both</th>\n",
              "    </tr>\n",
              "  </thead>\n",
              "  <tbody>\n",
              "    <tr>\n",
              "      <th>319</th>\n",
              "      <td>320</td>\n",
              "      <td>6</td>\n",
              "      <td>In the excerpt, the Mooring Mast, by Marcia Amidon LÃÂ¼sted, the construction of the Empire Sta...</td>\n",
              "      <td>2</td>\n",
              "      <td>2</td>\n",
              "      <td>2</td>\n",
              "      <td>[Offset 44, length 6, Rule ID: MORFOLOGIK_RULE_EN_US\\nMessage: Possible spelling mistake found.\\...</td>\n",
              "      <td>4</td>\n",
              "      <td>In the excerpt, the Mooring Mast, by Marcia Amid on Lasted, the construction of the Empire State...</td>\n",
              "      <td>12</td>\n",
              "      <td>130</td>\n",
              "      <td>8</td>\n",
              "      <td>87</td>\n",
              "      <td>[ADP, DET, NOUN, PUNCT, DET, PROPN, PROPN, PUNCT, ADP, PROPN, PROPN, ADP, PROPN, PUNCT, DET, NOU...</td>\n",
              "      <td>25</td>\n",
              "      <td>9</td>\n",
              "      <td>5</td>\n",
              "      <td>14</td>\n",
              "      <td>0.0</td>\n",
              "      <td>0.0</td>\n",
              "      <td>0.0</td>\n",
              "      <td>0.0</td>\n",
              "      <td>0.011765</td>\n",
              "      <td>0.058824</td>\n",
              "      <td>0.011765</td>\n",
              "      <td>0.0</td>\n",
              "    </tr>\n",
              "  </tbody>\n",
              "</table>\n",
              "</div>\n",
              "      <button class=\"colab-df-convert\" onclick=\"convertToInteractive('df-5fe3eb25-ca6c-45fb-8f98-b7c03881b0aa')\"\n",
              "              title=\"Convert this dataframe to an interactive table.\"\n",
              "              style=\"display:none;\">\n",
              "        \n",
              "  <svg xmlns=\"http://www.w3.org/2000/svg\" height=\"24px\"viewBox=\"0 0 24 24\"\n",
              "       width=\"24px\">\n",
              "    <path d=\"M0 0h24v24H0V0z\" fill=\"none\"/>\n",
              "    <path d=\"M18.56 5.44l.94 2.06.94-2.06 2.06-.94-2.06-.94-.94-2.06-.94 2.06-2.06.94zm-11 1L8.5 8.5l.94-2.06 2.06-.94-2.06-.94L8.5 2.5l-.94 2.06-2.06.94zm10 10l.94 2.06.94-2.06 2.06-.94-2.06-.94-.94-2.06-.94 2.06-2.06.94z\"/><path d=\"M17.41 7.96l-1.37-1.37c-.4-.4-.92-.59-1.43-.59-.52 0-1.04.2-1.43.59L10.3 9.45l-7.72 7.72c-.78.78-.78 2.05 0 2.83L4 21.41c.39.39.9.59 1.41.59.51 0 1.02-.2 1.41-.59l7.78-7.78 2.81-2.81c.8-.78.8-2.07 0-2.86zM5.41 20L4 18.59l7.72-7.72 1.47 1.35L5.41 20z\"/>\n",
              "  </svg>\n",
              "      </button>\n",
              "      \n",
              "  <style>\n",
              "    .colab-df-container {\n",
              "      display:flex;\n",
              "      flex-wrap:wrap;\n",
              "      gap: 12px;\n",
              "    }\n",
              "\n",
              "    .colab-df-convert {\n",
              "      background-color: #E8F0FE;\n",
              "      border: none;\n",
              "      border-radius: 50%;\n",
              "      cursor: pointer;\n",
              "      display: none;\n",
              "      fill: #1967D2;\n",
              "      height: 32px;\n",
              "      padding: 0 0 0 0;\n",
              "      width: 32px;\n",
              "    }\n",
              "\n",
              "    .colab-df-convert:hover {\n",
              "      background-color: #E2EBFA;\n",
              "      box-shadow: 0px 1px 2px rgba(60, 64, 67, 0.3), 0px 1px 3px 1px rgba(60, 64, 67, 0.15);\n",
              "      fill: #174EA6;\n",
              "    }\n",
              "\n",
              "    [theme=dark] .colab-df-convert {\n",
              "      background-color: #3B4455;\n",
              "      fill: #D2E3FC;\n",
              "    }\n",
              "\n",
              "    [theme=dark] .colab-df-convert:hover {\n",
              "      background-color: #434B5C;\n",
              "      box-shadow: 0px 1px 3px 1px rgba(0, 0, 0, 0.15);\n",
              "      filter: drop-shadow(0px 1px 2px rgba(0, 0, 0, 0.3));\n",
              "      fill: #FFFFFF;\n",
              "    }\n",
              "  </style>\n",
              "\n",
              "      <script>\n",
              "        const buttonEl =\n",
              "          document.querySelector('#df-5fe3eb25-ca6c-45fb-8f98-b7c03881b0aa button.colab-df-convert');\n",
              "        buttonEl.style.display =\n",
              "          google.colab.kernel.accessAllowed ? 'block' : 'none';\n",
              "\n",
              "        async function convertToInteractive(key) {\n",
              "          const element = document.querySelector('#df-5fe3eb25-ca6c-45fb-8f98-b7c03881b0aa');\n",
              "          const dataTable =\n",
              "            await google.colab.kernel.invokeFunction('convertToInteractive',\n",
              "                                                     [key], {});\n",
              "          if (!dataTable) return;\n",
              "\n",
              "          const docLinkHtml = 'Like what you see? Visit the ' +\n",
              "            '<a target=\"_blank\" href=https://colab.research.google.com/notebooks/data_table.ipynb>data table notebook</a>'\n",
              "            + ' to learn more about interactive tables.';\n",
              "          element.innerHTML = '';\n",
              "          dataTable['output_type'] = 'display_data';\n",
              "          await google.colab.output.renderOutput(dataTable, element);\n",
              "          const docLink = document.createElement('div');\n",
              "          docLink.innerHTML = docLinkHtml;\n",
              "          element.appendChild(docLink);\n",
              "        }\n",
              "      </script>\n",
              "    </div>\n",
              "  </div>\n",
              "  "
            ]
          },
          "metadata": {},
          "execution_count": 182
        }
      ]
    },
    {
      "cell_type": "markdown",
      "source": [
        "#### feature selection\n"
      ],
      "metadata": {
        "id": "SIZUQ3lzPmJj"
      }
    },
    {
      "cell_type": "code",
      "source": [
        "X=training_set[features]\n",
        "y=training_set['target_score']\n",
        "best_features= SelectKBest(score_func=chi2,k=10)\n",
        "fit=best_features.fit(X,y)"
      ],
      "metadata": {
        "id": "39Nps38bC2OX"
      },
      "execution_count": 183,
      "outputs": []
    },
    {
      "cell_type": "code",
      "source": [
        "df_score=pd.DataFrame(fit.scores_)\n",
        "dfcolumns=pd.DataFrame(X.columns)\n",
        "featureScores = pd.concat([dfcolumns,df_score],axis=1)\n",
        "featureScores.columns=['Features','Score']\n",
        "featureScores=featureScores.set_index('Features')\n",
        "featureScores.nlargest(10,'Score').plot(kind='barh')\n",
        "plt.show()"
      ],
      "metadata": {
        "colab": {
          "base_uri": "https://localhost:8080/",
          "height": 362
        },
        "id": "S5OKlAkvC7VQ",
        "outputId": "f030658e-7668-4d02-aa1e-1d5a9195d46e"
      },
      "execution_count": 184,
      "outputs": [
        {
          "output_type": "display_data",
          "data": {
            "text/plain": [
              "<Figure size 600x400 with 1 Axes>"
            ],
            "image/png": "[encoded data removed]"
          },
          "metadata": {
            "needs_background": "light"
          }
        }
      ]
    },
    {
      "cell_type": "code",
      "source": [
        "from sklearn.ensemble import ExtraTreesClassifier\n",
        "import matplotlib.pyplot as plt\n",
        "model = ExtraTreesClassifier()\n",
        "model.fit(X,y)\n",
        "\n",
        "feat_importances = pd.Series(model.feature_importances_, index=X.columns)\n",
        "feat_importances.nlargest(10).plot(kind='barh')\n",
        "plt.show()"
      ],
      "metadata": {
        "colab": {
          "base_uri": "https://localhost:8080/",
          "height": 362
        },
        "id": "MnkE-k9TDUoO",
        "outputId": "b8b816ca-07b6-4c7f-e5e4-0a655955477f"
      },
      "execution_count": 185,
      "outputs": [
        {
          "output_type": "display_data",
          "data": {
            "text/plain": [
              "<Figure size 600x400 with 1 Axes>"
            ],
            "image/png": "[encoded data removed]"
          },
          "metadata": {
            "needs_background": "light"
          }
        }
      ]
    },
    {
      "cell_type": "code",
      "source": [
        "training_set.shape"
      ],
      "metadata": {
        "colab": {
          "base_uri": "https://localhost:8080/"
        },
        "id": "1Fo4je_7DcLO",
        "outputId": "e140d525-132a-4de7-bf4a-19ddc81cbeb7"
      },
      "execution_count": 186,
      "outputs": [
        {
          "output_type": "execute_result",
          "data": {
            "text/plain": [
              "(425, 26)"
            ]
          },
          "metadata": {},
          "execution_count": 186
        }
      ]
    },
    {
      "cell_type": "code",
      "source": [
        "selector = SelectKBest(f_regression, k=9) \n",
        "\n",
        "\n",
        "df = pd.DataFrame()\n",
        "topics = [1,3,4,5,6,7]\n",
        "for topic in topics:\n",
        "    kpredictors = []\n",
        "    \n",
        "    \n",
        "    for p in features:\n",
        "        if np.std(training_set[training_set.topic == topic][p], axis=0) != 0:\n",
        "            kpredictors.append(p)\n",
        "            \n",
        "    \n",
        "    X = training_set[training_set.topic == topic][kpredictors]\n",
        "    y = training_set[training_set.topic == topic].target_score\n",
        "    \n",
        "    selector.fit(X, y)\n",
        "\n",
        "    \n",
        "    mask = selector.get_support(indices=True)\n",
        "\n",
        "    selected_features = training_set[training_set.topic == topic][features].columns[mask]\n",
        "    df[\"Topic \" + str(topic)] = selected_features\n",
        "df"
      ],
      "metadata": {
        "colab": {
          "base_uri": "https://localhost:8080/",
          "height": 332
        },
        "id": "4s-capUCDlw7",
        "outputId": "07e2df11-dc34-4482-ea46-387201a0f917"
      },
      "execution_count": 188,
      "outputs": [
        {
          "output_type": "execute_result",
          "data": {
            "text/plain": [
              "             Topic 1            Topic 3            Topic 4            Topic 5            Topic 6            Topic 7\n",
              "0         word_count        corrections           misspelt         word_count         word_count        corrections\n",
              "1     sentence_count           misspelt         word_count     sentence_count     sentence_count           misspelt\n",
              "2  unique_word_count         word_count     sentence_count  unique_word_count  unique_word_count         word_count\n",
              "3               noun     sentence_count  unique_word_count               noun               noun     sentence_count\n",
              "4                adj  unique_word_count               noun                adj                adj  unique_word_count\n",
              "5               pron               noun                adj               pron               verb               noun\n",
              "6               verb                adj               pron               verb    strong_negative                adj\n",
              "7    strong_negative               pron               verb    strong_positive        strong_both               pron\n",
              "8      weak_negative               verb    strong_negative        strong_both      weak_positive               verb"
            ],
            "text/html": [
              "\n",
              "  <div id=\"df-573ff59e-912d-4223-bcd8-6b05977db5bf\">\n",
              "    <div class=\"colab-df-container\">\n",
              "      <div>\n",
              "<style scoped>\n",
              "    .dataframe tbody tr th:only-of-type {\n",
              "        vertical-align: middle;\n",
              "    }\n",
              "\n",
              "    .dataframe tbody tr th {\n",
              "        vertical-align: top;\n",
              "    }\n",
              "\n",
              "    .dataframe thead th {\n",
              "        text-align: right;\n",
              "    }\n",
              "</style>\n",
              "<table border=\"1\" class=\"dataframe\">\n",
              "  <thead>\n",
              "    <tr style=\"text-align: right;\">\n",
              "      <th></th>\n",
              "      <th>Topic 1</th>\n",
              "      <th>Topic 3</th>\n",
              "      <th>Topic 4</th>\n",
              "      <th>Topic 5</th>\n",
              "      <th>Topic 6</th>\n",
              "      <th>Topic 7</th>\n",
              "    </tr>\n",
              "  </thead>\n",
              "  <tbody>\n",
              "    <tr>\n",
              "      <th>0</th>\n",
              "      <td>word_count</td>\n",
              "      <td>corrections</td>\n",
              "      <td>misspelt</td>\n",
              "      <td>word_count</td>\n",
              "      <td>word_count</td>\n",
              "      <td>corrections</td>\n",
              "    </tr>\n",
              "    <tr>\n",
              "      <th>1</th>\n",
              "      <td>sentence_count</td>\n",
              "      <td>misspelt</td>\n",
              "      <td>word_count</td>\n",
              "      <td>sentence_count</td>\n",
              "      <td>sentence_count</td>\n",
              "      <td>misspelt</td>\n",
              "    </tr>\n",
              "    <tr>\n",
              "      <th>2</th>\n",
              "      <td>unique_word_count</td>\n",
              "      <td>word_count</td>\n",
              "      <td>sentence_count</td>\n",
              "      <td>unique_word_count</td>\n",
              "      <td>unique_word_count</td>\n",
              "      <td>word_count</td>\n",
              "    </tr>\n",
              "    <tr>\n",
              "      <th>3</th>\n",
              "      <td>noun</td>\n",
              "      <td>sentence_count</td>\n",
              "      <td>unique_word_count</td>\n",
              "      <td>noun</td>\n",
              "      <td>noun</td>\n",
              "      <td>sentence_count</td>\n",
              "    </tr>\n",
              "    <tr>\n",
              "      <th>4</th>\n",
              "      <td>adj</td>\n",
              "      <td>unique_word_count</td>\n",
              "      <td>noun</td>\n",
              "      <td>adj</td>\n",
              "      <td>adj</td>\n",
              "      <td>unique_word_count</td>\n",
              "    </tr>\n",
              "    <tr>\n",
              "      <th>5</th>\n",
              "      <td>pron</td>\n",
              "      <td>noun</td>\n",
              "      <td>adj</td>\n",
              "      <td>pron</td>\n",
              "      <td>verb</td>\n",
              "      <td>noun</td>\n",
              "    </tr>\n",
              "    <tr>\n",
              "      <th>6</th>\n",
              "      <td>verb</td>\n",
              "      <td>adj</td>\n",
              "      <td>pron</td>\n",
              "      <td>verb</td>\n",
              "      <td>strong_negative</td>\n",
              "      <td>adj</td>\n",
              "    </tr>\n",
              "    <tr>\n",
              "      <th>7</th>\n",
              "      <td>strong_negative</td>\n",
              "      <td>pron</td>\n",
              "      <td>verb</td>\n",
              "      <td>strong_positive</td>\n",
              "      <td>strong_both</td>\n",
              "      <td>pron</td>\n",
              "    </tr>\n",
              "    <tr>\n",
              "      <th>8</th>\n",
              "      <td>weak_negative</td>\n",
              "      <td>verb</td>\n",
              "      <td>strong_negative</td>\n",
              "      <td>strong_both</td>\n",
              "      <td>weak_positive</td>\n",
              "      <td>verb</td>\n",
              "    </tr>\n",
              "  </tbody>\n",
              "</table>\n",
              "</div>\n",
              "      <button class=\"colab-df-convert\" onclick=\"convertToInteractive('df-573ff59e-912d-4223-bcd8-6b05977db5bf')\"\n",
              "              title=\"Convert this dataframe to an interactive table.\"\n",
              "              style=\"display:none;\">\n",
              "        \n",
              "  <svg xmlns=\"http://www.w3.org/2000/svg\" height=\"24px\"viewBox=\"0 0 24 24\"\n",
              "       width=\"24px\">\n",
              "    <path d=\"M0 0h24v24H0V0z\" fill=\"none\"/>\n",
              "    <path d=\"M18.56 5.44l.94 2.06.94-2.06 2.06-.94-2.06-.94-.94-2.06-.94 2.06-2.06.94zm-11 1L8.5 8.5l.94-2.06 2.06-.94-2.06-.94L8.5 2.5l-.94 2.06-2.06.94zm10 10l.94 2.06.94-2.06 2.06-.94-2.06-.94-.94-2.06-.94 2.06-2.06.94z\"/><path d=\"M17.41 7.96l-1.37-1.37c-.4-.4-.92-.59-1.43-.59-.52 0-1.04.2-1.43.59L10.3 9.45l-7.72 7.72c-.78.78-.78 2.05 0 2.83L4 21.41c.39.39.9.59 1.41.59.51 0 1.02-.2 1.41-.59l7.78-7.78 2.81-2.81c.8-.78.8-2.07 0-2.86zM5.41 20L4 18.59l7.72-7.72 1.47 1.35L5.41 20z\"/>\n",
              "  </svg>\n",
              "      </button>\n",
              "      \n",
              "  <style>\n",
              "    .colab-df-container {\n",
              "      display:flex;\n",
              "      flex-wrap:wrap;\n",
              "      gap: 12px;\n",
              "    }\n",
              "\n",
              "    .colab-df-convert {\n",
              "      background-color: #E8F0FE;\n",
              "      border: none;\n",
              "      border-radius: 50%;\n",
              "      cursor: pointer;\n",
              "      display: none;\n",
              "      fill: #1967D2;\n",
              "      height: 32px;\n",
              "      padding: 0 0 0 0;\n",
              "      width: 32px;\n",
              "    }\n",
              "\n",
              "    .colab-df-convert:hover {\n",
              "      background-color: #E2EBFA;\n",
              "      box-shadow: 0px 1px 2px rgba(60, 64, 67, 0.3), 0px 1px 3px 1px rgba(60, 64, 67, 0.15);\n",
              "      fill: #174EA6;\n",
              "    }\n",
              "\n",
              "    [theme=dark] .colab-df-convert {\n",
              "      background-color: #3B4455;\n",
              "      fill: #D2E3FC;\n",
              "    }\n",
              "\n",
              "    [theme=dark] .colab-df-convert:hover {\n",
              "      background-color: #434B5C;\n",
              "      box-shadow: 0px 1px 3px 1px rgba(0, 0, 0, 0.15);\n",
              "      filter: drop-shadow(0px 1px 2px rgba(0, 0, 0, 0.3));\n",
              "      fill: #FFFFFF;\n",
              "    }\n",
              "  </style>\n",
              "\n",
              "      <script>\n",
              "        const buttonEl =\n",
              "          document.querySelector('#df-573ff59e-912d-4223-bcd8-6b05977db5bf button.colab-df-convert');\n",
              "        buttonEl.style.display =\n",
              "          google.colab.kernel.accessAllowed ? 'block' : 'none';\n",
              "\n",
              "        async function convertToInteractive(key) {\n",
              "          const element = document.querySelector('#df-573ff59e-912d-4223-bcd8-6b05977db5bf');\n",
              "          const dataTable =\n",
              "            await google.colab.kernel.invokeFunction('convertToInteractive',\n",
              "                                                     [key], {});\n",
              "          if (!dataTable) return;\n",
              "\n",
              "          const docLinkHtml = 'Like what you see? Visit the ' +\n",
              "            '<a target=\"_blank\" href=https://colab.research.google.com/notebooks/data_table.ipynb>data table notebook</a>'\n",
              "            + ' to learn more about interactive tables.';\n",
              "          element.innerHTML = '';\n",
              "          dataTable['output_type'] = 'display_data';\n",
              "          await google.colab.output.renderOutput(dataTable, element);\n",
              "          const docLink = document.createElement('div');\n",
              "          docLink.innerHTML = docLinkHtml;\n",
              "          element.appendChild(docLink);\n",
              "        }\n",
              "      </script>\n",
              "    </div>\n",
              "  </div>\n",
              "  "
            ]
          },
          "metadata": {},
          "execution_count": 188
        }
      ]
    },
    {
      "cell_type": "markdown",
      "source": [
        "#### kappa score\n"
      ],
      "metadata": {
        "id": "C4Lel7gvPtKn"
      }
    },
    {
      "cell_type": "code",
      "source": [
        "def evaluate(df, topic, features, model):\n",
        "    \"\"\"Regression pipeline with kappa evaluation\"\"\"\n",
        "\n",
        "    X = df[df['topic'] == topic][features]\n",
        "    y = df[df['topic'] == topic]['target_score'].astype(np.float64)\n",
        "    \n",
        "    X_train, X_test, y_train, y_test = train_test_split(X, y, test_size=0.3, random_state=26)\n",
        "    \n",
        "    model.fit(X_train, y_train)    \n",
        "    y_pred = model.predict(X_test)\n",
        "\n",
        "    return quadratic_weighted_kappa(y_pred, y_test)"
      ],
      "metadata": {
        "id": "kMaxVR-WLdWn"
      },
      "execution_count": 189,
      "outputs": []
    },
    {
      "cell_type": "markdown",
      "source": [
        "##### funcs\n"
      ],
      "metadata": {
        "id": "CmedEn4CLiAx"
      }
    },
    {
      "cell_type": "code",
      "source": [
        "def confusion_matrix(rater_a, rater_b, min_rating=None, max_rating=None):\n",
        "    \"\"\"\n",
        "    Returns the confusion matrix between rater's ratings\n",
        "    \"\"\"\n",
        "    assert(len(rater_a) == len(rater_b))\n",
        "    if min_rating is None:\n",
        "        min_rating = min(rater_a + rater_b)\n",
        "    if max_rating is None:\n",
        "        max_rating = max(rater_a + rater_b)\n",
        "    num_ratings = int(max_rating - min_rating + 1)\n",
        "    conf_mat = [[0 for i in range(num_ratings)]\n",
        "                for j in range(num_ratings)]\n",
        "    for a, b in zip(rater_a, rater_b):\n",
        "        conf_mat[a - min_rating][b - min_rating] += 1\n",
        "    return conf_mat\n",
        "\n",
        "\n",
        "def histogram(ratings, min_rating=None, max_rating=None):\n",
        "    \"\"\"\n",
        "    Returns the counts of each type of rating that a rater made\n",
        "    \"\"\"\n",
        "    if min_rating is None:\n",
        "        min_rating = min(ratings)\n",
        "    if max_rating is None:\n",
        "        max_rating = max(ratings)\n",
        "    num_ratings = int(max_rating - min_rating + 1)\n",
        "    hist_ratings = [0 for x in range(num_ratings)]\n",
        "    for r in ratings:\n",
        "        hist_ratings[r - min_rating] += 1\n",
        "    return hist_ratings\n",
        "\n",
        "def quadratic_weighted_kappa(rater_a, rater_b, min_rating=None, max_rating=None):\n",
        "    \"\"\"\n",
        "    Calculates the quadratic weighted kappa\n",
        "    quadratic_weighted_kappa calculates the quadratic weighted kappa\n",
        "    value, which is a measure of inter-rater agreement between two raters\n",
        "    that provide discrete numeric ratings.  Potential values range from -1\n",
        "    (representing complete disagreement) to 1 (representing complete\n",
        "    agreement).  A kappa value of 0 is expected if all agreement is due to\n",
        "    chance.\n",
        "    quadratic_weighted_kappa(rater_a, rater_b), where rater_a and rater_b\n",
        "    each correspond to a list of integer ratings.  These lists must have the\n",
        "    same length.\n",
        "    The ratings should be integers, and it is assumed that they contain\n",
        "    the complete range of possible ratings.\n",
        "    quadratic_weighted_kappa(X, min_rating, max_rating), where min_rating\n",
        "    is the minimum possible rating, and max_rating is the maximum possible\n",
        "    rating\n",
        "    \"\"\"\n",
        "    rater_a = np.array(rater_a, dtype=int)\n",
        "    rater_b = np.array(rater_b, dtype=int)\n",
        "    assert(len(rater_a) == len(rater_b))\n",
        "    if min_rating is None:\n",
        "        min_rating = min(min(rater_a), min(rater_b))\n",
        "    if max_rating is None:\n",
        "        max_rating = max(max(rater_a), max(rater_b))\n",
        "    conf_mat = confusion_matrix(rater_a, rater_b,\n",
        "                                min_rating, max_rating)\n",
        "    num_ratings = len(conf_mat)\n",
        "    num_scored_items = float(len(rater_a))\n",
        "\n",
        "    hist_rater_a = histogram(rater_a, min_rating, max_rating)\n",
        "    hist_rater_b = histogram(rater_b, min_rating, max_rating)\n",
        "\n",
        "    numerator = 0.0\n",
        "    denominator = 0.0\n",
        "\n",
        "    for i in range(num_ratings):\n",
        "        for j in range(num_ratings):\n",
        "            expected_count = (hist_rater_a[i] * hist_rater_b[j]\n",
        "                              / num_scored_items)\n",
        "            d = pow(i - j, 2.0) / pow(num_ratings - 1, 2.0)\n",
        "            numerator += d * conf_mat[i][j] / num_scored_items\n",
        "            denominator += d * expected_count / num_scored_items\n",
        "\n",
        "    return 1.0 - numerator / denominator\n",
        "\n",
        "# Taken From https://github.com/NishantSushmakar/Automated-Essay-Grading"
      ],
      "metadata": {
        "id": "zYgKtmOHLj4X"
      },
      "execution_count": 190,
      "outputs": []
    },
    {
      "cell_type": "markdown",
      "source": [
        "#### model"
      ],
      "metadata": {
        "id": "g-GbUDbILokv"
      }
    },
    {
      "cell_type": "code",
      "source": [
        "model = LinearRegression()"
      ],
      "metadata": {
        "id": "xVexXPTa2Edx"
      },
      "execution_count": 191,
      "outputs": []
    },
    {
      "cell_type": "code",
      "source": [
        "# ALL FEATURES KAPPA VALUES PER ESSAYSET\n",
        "essaysets = [1,3,4,5,6,7]\n",
        "\n",
        "# for steps in models:\n",
        "kappas = []\n",
        "weights = []\n",
        "for essayset in essaysets:\n",
        "    kappas.append(evaluate(training_set, essayset, features, model))\n",
        "    # weights.append(len(training_set[training_set.topic==essayset]))\n",
        "\n",
        "print(kappas)\n"
      ],
      "metadata": {
        "colab": {
          "base_uri": "https://localhost:8080/"
        },
        "id": "5IwIw39pLtAs",
        "outputId": "bd82de4d-24c9-40bb-c400-02aadb4021a2"
      },
      "execution_count": 192,
      "outputs": [
        {
          "output_type": "stream",
          "name": "stdout",
          "text": [
            "[0.8863109048723897, 0.45210727969348663, 0.3414634146341463, 0.5781710914454278, 0.46630727762803215, 0.5791027496382053]\n"
          ]
        }
      ]
    },
    {
      "cell_type": "code",
      "source": [
        "langFeatures = ['word_count', 'sentence_count', 'unique_word_count' ]\n",
        "speechFeatures = ['noun', 'adj', 'pron', 'verb']\n",
        "orthoFeatures = ['corrections',  'misspelt']\n",
        "emotiveFeatures = ['strong_positive', 'strong_negative', 'strong_neutral', 'strong_both', 'weak_positive', 'weak_negative', 'weak_neutral', 'weak_both']\n",
        "\n"
      ],
      "metadata": {
        "id": "itDbmgq_uxLz"
      },
      "execution_count": 193,
      "outputs": []
    },
    {
      "cell_type": "code",
      "source": [
        "# SPECIFIC FEATURES KAPPA VALUES PER ESSAYSET\n",
        "# draw graph\n",
        "essaysets = [1,3,4,5,6,7]\n",
        "\n",
        "kappas1 = []\n",
        "kappas2 = []\n",
        "kappas3 = []\n",
        "kappas4 = []\n",
        "\n",
        "weights = []\n",
        "for essayset in essaysets:\n",
        "    kappas1.append(evaluate(training_set, essayset, langFeatures, model))\n",
        "    kappas2.append(evaluate(training_set, essayset, speechFeatures, model))\n",
        "    kappas3.append(evaluate(training_set, essayset, corrFeatures, model))\n",
        "    kappas4.append(evaluate(training_set, essayset, emotiveFeatures, model))\n",
        "\n",
        "print('langFeatures', kappas1)\n",
        "print('partsofspeechFeatures', kappas2)\n",
        "print('orthoFeatures',kappas3)\n",
        "print('emotiveFeatures', kappas4)\n",
        "\n",
        "# languageFluency, PartsOfSpeech, Orthography, Subjective"
      ],
      "metadata": {
        "colab": {
          "base_uri": "https://localhost:8080/"
        },
        "id": "q_hFhm-tviaM",
        "outputId": "89a9a989-ebb8-4220-e265-890b14ef78aa"
      },
      "execution_count": 165,
      "outputs": [
        {
          "output_type": "stream",
          "name": "stdout",
          "text": [
            "langFeatures [0.9006309148264984, 0.502262443438914, 0.5573440643863179, 0.5352112676056338, 0.21739130434782616, 0.6296326201049656]\n",
            "partsofspeechFeatures [0.8842105263157894, 0.502262443438914, 0.4488517745302716, 0.5352112676056339, 0.5652173913043479, 0.4925019731649566]\n",
            "orthoFeatures [-0.00517464424320857, 0.3390557939914163, 0.326039387308534, 0.0, 0.0, 0.29020394516883974]\n",
            "emotiveFeatures [-0.16666666666666652, -0.18326693227091595, 0.42105263157894735, 0.2978723404255319, 0.50561797752809, -0.09980738924881893]\n"
          ]
        }
      ]
    },
    {
      "cell_type": "code",
      "source": [
        "import matplotlib.pyplot as plt\n",
        "import numpy as np\n",
        "\n",
        "# langFeatures \n",
        "# speechFeatures \n",
        "# corrFeatures \n",
        "# emotiveFeatures \n",
        "\n",
        "x = np.arange(6)\n",
        "y1 = kappas1\n",
        "y2 = kappas2\n",
        "y3 = kappas3\n",
        "y4 = kappas4\n",
        "width = 0.2\n",
        "  \n",
        "# plot data in grouped manner of bar type\n",
        "plt.bar(x-0.2, y1, width, color='blue')\n",
        "plt.bar(x, y2, width, color='orange')\n",
        "plt.bar(x+0.2, y3, width, color='lightgreen')\n",
        "plt.bar(x+0.2, y4, width, color='pink')\n",
        "plt.xticks(x, ['Set1', 'Set3', 'Set4', 'Set5', 'Set6', 'Set7'])\n",
        "\n",
        "plt.legend([\"LanguageFluency\", \"PartsOfSpeech\", \"Orthography\", \"Subjective\"])\n",
        "plt.show()"
      ],
      "metadata": {
        "colab": {
          "base_uri": "https://localhost:8080/",
          "height": 362
        },
        "id": "xrtmdNL4JMNR",
        "outputId": "44055629-697e-4b30-bc6a-8620fc1f3dd8"
      },
      "execution_count": 194,
      "outputs": [
        {
          "output_type": "display_data",
          "data": {
            "text/plain": [
              "<Figure size 600x400 with 1 Axes>"
            ],
            "image/png": "[encoded data removed]"
          },
          "metadata": {
            "needs_background": "light"
          }
        }
      ]
    },
    {
      "cell_type": "code",
      "source": [],
      "metadata": {
        "id": "RxyRT-f-ulsA"
      },
      "execution_count": null,
      "outputs": []
    }
  ]
}